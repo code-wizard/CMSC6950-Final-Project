{
 "cells": [
  {
   "cell_type": "code",
   "execution_count": 1,
   "metadata": {},
   "outputs": [],
   "source": [
    "import numpy as np\n",
    "import warnings\n",
    "from scipy.io import loadmat\n",
    "from LFSpy import LocalFeatureSelection\n",
    "from sklearn.ensemble import AdaBoostClassifier\n",
    "from sklearn.svm import LinearSVC\n",
    "from sklearn.feature_selection import SelectKBest, f_classif\n",
    "from sklearn.pipeline import Pipeline\n",
    "from sklearn import datasets\n",
    "import matplotlib.pyplot as plt\n",
    "import pandas as pd\n",
    "from sklearn import preprocessing\n",
    "import seaborn as sns\n",
    "from pandas.plotting import table\n",
    "from sklearn import metrics\n",
    "from sklearn.neighbors import KNeighborsClassifier\n",
    "from sklearn.tree import DecisionTreeClassifier\n",
    "from sklearn.naive_bayes import GaussianNB\n",
    "from sklearn.model_selection import train_test_split\n",
    "from matplotlib.colors import ListedColormap\n",
    "\n",
    "np.random.seed(905)\n"
   ]
  },
  {
   "cell_type": "code",
   "execution_count": 2,
   "metadata": {},
   "outputs": [],
   "source": [
    "df = pd.read_csv('data/iris.csv', sep=',')\n"
   ]
  },
  {
   "cell_type": "code",
   "execution_count": 8,
   "metadata": {},
   "outputs": [
    {
     "data": {
      "text/html": [
       "<div>\n",
       "<style scoped>\n",
       "    .dataframe tbody tr th:only-of-type {\n",
       "        vertical-align: middle;\n",
       "    }\n",
       "\n",
       "    .dataframe tbody tr th {\n",
       "        vertical-align: top;\n",
       "    }\n",
       "\n",
       "    .dataframe thead th {\n",
       "        text-align: right;\n",
       "    }\n",
       "</style>\n",
       "<table border=\"1\" class=\"dataframe\">\n",
       "  <thead>\n",
       "    <tr style=\"text-align: right;\">\n",
       "      <th></th>\n",
       "      <th>sepal_length</th>\n",
       "      <th>sepal_width</th>\n",
       "      <th>petal_length</th>\n",
       "      <th>petal_width</th>\n",
       "      <th>species</th>\n",
       "    </tr>\n",
       "  </thead>\n",
       "  <tbody>\n",
       "    <tr>\n",
       "      <th>0</th>\n",
       "      <td>5.1</td>\n",
       "      <td>3.5</td>\n",
       "      <td>1.4</td>\n",
       "      <td>0.2</td>\n",
       "      <td>setosa</td>\n",
       "    </tr>\n",
       "    <tr>\n",
       "      <th>1</th>\n",
       "      <td>4.9</td>\n",
       "      <td>3.0</td>\n",
       "      <td>1.4</td>\n",
       "      <td>0.2</td>\n",
       "      <td>setosa</td>\n",
       "    </tr>\n",
       "    <tr>\n",
       "      <th>2</th>\n",
       "      <td>4.7</td>\n",
       "      <td>3.2</td>\n",
       "      <td>1.3</td>\n",
       "      <td>0.2</td>\n",
       "      <td>setosa</td>\n",
       "    </tr>\n",
       "    <tr>\n",
       "      <th>3</th>\n",
       "      <td>4.6</td>\n",
       "      <td>3.1</td>\n",
       "      <td>1.5</td>\n",
       "      <td>0.2</td>\n",
       "      <td>setosa</td>\n",
       "    </tr>\n",
       "    <tr>\n",
       "      <th>4</th>\n",
       "      <td>5.0</td>\n",
       "      <td>3.6</td>\n",
       "      <td>1.4</td>\n",
       "      <td>0.2</td>\n",
       "      <td>setosa</td>\n",
       "    </tr>\n",
       "    <tr>\n",
       "      <th>...</th>\n",
       "      <td>...</td>\n",
       "      <td>...</td>\n",
       "      <td>...</td>\n",
       "      <td>...</td>\n",
       "      <td>...</td>\n",
       "    </tr>\n",
       "    <tr>\n",
       "      <th>95</th>\n",
       "      <td>5.7</td>\n",
       "      <td>3.0</td>\n",
       "      <td>4.2</td>\n",
       "      <td>1.2</td>\n",
       "      <td>versicolor</td>\n",
       "    </tr>\n",
       "    <tr>\n",
       "      <th>96</th>\n",
       "      <td>5.7</td>\n",
       "      <td>2.9</td>\n",
       "      <td>4.2</td>\n",
       "      <td>1.3</td>\n",
       "      <td>versicolor</td>\n",
       "    </tr>\n",
       "    <tr>\n",
       "      <th>97</th>\n",
       "      <td>6.2</td>\n",
       "      <td>2.9</td>\n",
       "      <td>4.3</td>\n",
       "      <td>1.3</td>\n",
       "      <td>versicolor</td>\n",
       "    </tr>\n",
       "    <tr>\n",
       "      <th>98</th>\n",
       "      <td>5.1</td>\n",
       "      <td>2.5</td>\n",
       "      <td>3.0</td>\n",
       "      <td>1.1</td>\n",
       "      <td>versicolor</td>\n",
       "    </tr>\n",
       "    <tr>\n",
       "      <th>99</th>\n",
       "      <td>5.7</td>\n",
       "      <td>2.8</td>\n",
       "      <td>4.1</td>\n",
       "      <td>1.3</td>\n",
       "      <td>versicolor</td>\n",
       "    </tr>\n",
       "  </tbody>\n",
       "</table>\n",
       "<p>100 rows × 5 columns</p>\n",
       "</div>"
      ],
      "text/plain": [
       "    sepal_length  sepal_width  petal_length  petal_width     species\n",
       "0            5.1          3.5           1.4          0.2      setosa\n",
       "1            4.9          3.0           1.4          0.2      setosa\n",
       "2            4.7          3.2           1.3          0.2      setosa\n",
       "3            4.6          3.1           1.5          0.2      setosa\n",
       "4            5.0          3.6           1.4          0.2      setosa\n",
       "..           ...          ...           ...          ...         ...\n",
       "95           5.7          3.0           4.2          1.2  versicolor\n",
       "96           5.7          2.9           4.2          1.3  versicolor\n",
       "97           6.2          2.9           4.3          1.3  versicolor\n",
       "98           5.1          2.5           3.0          1.1  versicolor\n",
       "99           5.7          2.8           4.1          1.3  versicolor\n",
       "\n",
       "[100 rows x 5 columns]"
      ]
     },
     "execution_count": 8,
     "metadata": {},
     "output_type": "execute_result"
    }
   ],
   "source": [
    "df.head(100)\n"
   ]
  },
  {
   "cell_type": "code",
   "execution_count": 3,
   "metadata": {},
   "outputs": [],
   "source": [
    "clean_df = df.query('species ==\"setosa\" or species==\"versicolor\"')"
   ]
  },
  {
   "cell_type": "code",
   "execution_count": 23,
   "metadata": {},
   "outputs": [
    {
     "data": {
      "image/png": "[encoded data removed]",
      "text/plain": [
       "<Figure size 720x144 with 1 Axes>"
      ]
     },
     "metadata": {
      "needs_background": "light"
     },
     "output_type": "display_data"
    }
   ],
   "source": [
    "desc = clean_df.describe()\n",
    "plt.figure(figsize=(10,2))\n",
    "plot = plt.subplot(111, frame_on=False)\n",
    "plot.xaxis.set_visible(False) \n",
    "plot.yaxis.set_visible(False) \n",
    "table(plot, desc,loc='best', colColours=[\"orange\", \"orange\", \"orange\", \"orange\"])\n",
    "# plt.show()\n",
    "    #save the plot as a png file\n",
    "plt.title(\"Dataset Descripion\")\n",
    "plt.savefig('desc_plot.png')"
   ]
  },
  {
   "cell_type": "code",
   "execution_count": 155,
   "metadata": {},
   "outputs": [
    {
     "data": {
      "image/png": "[encoded data removed]",
      "text/plain": [
       "<Figure size 432x288 with 1 Axes>"
      ]
     },
     "metadata": {
      "needs_background": "light"
     },
     "output_type": "display_data"
    }
   ],
   "source": [
    "# Visualize the data\n",
    "sns.countplot(clean_df['species'])\n",
    "species = clean_df['species'].value_counts()\n",
    "plt.ylim(0,100)\n",
    "plt.title('Species Distribution', fontsize=15)\n",
    "plt.xlabel('Species', fontsize=12)\n",
    "plt.ylabel('Count (Entries)', fontsize=12)\n",
    "plt.grid(color='#ddd', linestyle='-', linewidth=2, alpha=0.2)\n",
    "# plt.text(x=-.175, y=100, s='10,422', fontsize=15)\n",
    "# plt.text(x=.875, y=100, s='1988', fontsize=15)\n",
    "xval=0\n",
    "for index, value in species.items():\n",
    "    plt.text(x=xval, y=value+5, s=str(value))\n",
    "    xval += 1.02\n",
    "plt.savefig(\"classes.png\")"
   ]
  },
  {
   "cell_type": "code",
   "execution_count": 71,
   "metadata": {},
   "outputs": [],
   "source": [
    "X = clean_df.drop(['species'], axis=1).to_numpy()\n",
    "y = clean_df['species'].to_numpy()\n",
    "le = preprocessing.LabelEncoder()\n",
    "y = le.fit_transform(y)"
   ]
  },
  {
   "cell_type": "code",
   "execution_count": 87,
   "metadata": {},
   "outputs": [
    {
     "name": "stdout",
     "output_type": "stream",
     "text": [
      "Training and testing an LFS model with default parameters.\n",
      "This may take a few minutes...\n"
     ]
    }
   ],
   "source": [
    "x_train,x_test,  y_train, y_test = load_dataset()\n"
   ]
  },
  {
   "cell_type": "code",
   "execution_count": 168,
   "metadata": {},
   "outputs": [
    {
     "data": {
      "image/png": "[encoded data removed]",
      "text/plain": [
       "<Figure size 432x288 with 1 Axes>"
      ]
     },
     "metadata": {
      "needs_background": "light"
     },
     "output_type": "display_data"
    }
   ],
   "source": [
    "cm = plt.cm.RdBu\n",
    "cm_bright = ListedColormap(['seagreen', 'darkorange'])\n",
    "# plt.figure(figsize=(6,5))\n",
    "\n",
    "ax = plt.subplot(2, 1, 1)\n",
    "    # Plot the training points\n",
    "s=ax.scatter(x_train[:, 0], x_train[:,1], c=y_train, cmap=cm_bright,\n",
    "               edgecolors='k', alpha=0.6, )\n",
    "    # Plot the testing points\n",
    "plt.xlabel(\"Sepal Length\")\n",
    "plt.ylabel(\"Sepal Width\")\n",
    "plt.legend(handles=s.legend_elements()[0], labels=[\"Setosa\", \"Versicolor\"])\n",
    "plt.title(\"Training data specie distribution by Sepal length and width\")\n",
    "# plt.show()\n",
    "plt.savefig(\"training.png\")"
   ]
  },
  {
   "cell_type": "code",
   "execution_count": 167,
   "metadata": {},
   "outputs": [
    {
     "data": {
      "image/png": "[encoded data removed]",
      "text/plain": [
       "<Figure size 432x288 with 1 Axes>"
      ]
     },
     "metadata": {
      "needs_background": "light"
     },
     "output_type": "display_data"
    }
   ],
   "source": [
    "# plt.figure(figsize=(6,5))\n",
    "ax = plt.subplot(2, 1, 2)\n",
    "ax.scatter(x_test[:, 0], x_test[:, 1], c=y_test, cmap=cm_bright, alpha=0.6,\n",
    "               edgecolors='k')\n",
    "plt.xlabel(\"Sepal Length\")\n",
    "plt.ylabel(\"Sepal Width\")\n",
    "plt.legend(handles=s.legend_elements()[0], labels=[\"Setosa\", \"Versicolor\"])\n",
    "plt.title(\"Test data specie distribution by Sepal length and width\")\n",
    "plt.savefig(\"test.png\")"
   ]
  },
  {
   "cell_type": "code",
   "execution_count": 125,
   "metadata": {},
   "outputs": [
    {
     "name": "stdout",
     "output_type": "stream",
     "text": [
      "Training and testing an LFS model with default parameters.\n",
      "This may take a few minutes...\n",
      "Training and testing a Decision Forest with default parameters.\n",
      "Training and testing a K-Neighbors with default parameters\n",
      "Training and testing a Gaussian Naive Bayes with default parameters \n"
     ]
    }
   ],
   "source": [
    "score_lfs, y_pred_lfs = results_lfspy(x_train, y_train, x_test, y_test)\n",
    "score_des, y_pred_des = results_decision(x_train, y_train, x_test, y_test)\n",
    "score_nei, y_pred_nei = results_neighbor(x_train, y_train, x_test, y_test)\n",
    "score_bye, y_pred_bye = results_naive(x_train, y_train, x_test, y_test)"
   ]
  },
  {
   "cell_type": "code",
   "execution_count": 185,
   "metadata": {},
   "outputs": [],
   "source": [
    "score_list = [score_lfs, score_des, score_nei, score_bye]\n",
    "np.save(\"classification.npy\", score_list)\n",
    "# with open('classification.npy', 'wb') as f:\n",
    "#     np.save(f, scores)\n",
    "#     np.save(f, scores_iris), "
   ]
  },
  {
   "cell_type": "code",
   "execution_count": 187,
   "metadata": {},
   "outputs": [],
   "source": [
    "score_list = np.load(\"classification.npy\")"
   ]
  },
  {
   "cell_type": "code",
   "execution_count": 188,
   "metadata": {},
   "outputs": [
    {
     "data": {
      "text/plain": [
       "array([1., 1., 1., 1.])"
      ]
     },
     "execution_count": 188,
     "metadata": {},
     "output_type": "execute_result"
    }
   ],
   "source": [
    "score_list"
   ]
  },
  {
   "cell_type": "code",
   "execution_count": 189,
   "metadata": {},
   "outputs": [
    {
     "data": {
      "image/png": "[encoded data removed]",
      "text/plain": [
       "<Figure size 432x288 with 1 Axes>"
      ]
     },
     "metadata": {},
     "output_type": "display_data"
    }
   ],
   "source": [
    "plotScores(score_list, 'Classification Score', 'classification_score.png')"
   ]
  },
  {
   "cell_type": "code",
   "execution_count": 154,
   "metadata": {},
   "outputs": [
    {
     "name": "stdout",
     "output_type": "stream",
     "text": [
      "Training and testing an LFS model with default parameters.\n",
      "This may take a few minutes...\n",
      "Training and testing a Decision Forest with default parameters.\n",
      "Training and testing a K-Neighbors with default parameters\n",
      "Training and testing a Gaussian Naive Bayes with default parameters \n",
      "Training and testing an LFS model with default parameters.\n",
      "This may take a few minutes...\n",
      "Training and testing a Decision Forest with default parameters.\n",
      "Training and testing a K-Neighbors with default parameters\n",
      "Training and testing a Gaussian Naive Bayes with default parameters \n",
      "Training and testing an LFS model with default parameters.\n",
      "This may take a few minutes...\n",
      "Training and testing a Decision Forest with default parameters.\n",
      "Training and testing a K-Neighbors with default parameters\n",
      "Training and testing a Gaussian Naive Bayes with default parameters \n",
      "Training and testing an LFS model with default parameters.\n",
      "This may take a few minutes...\n",
      "Training and testing a Decision Forest with default parameters.\n",
      "Training and testing a K-Neighbors with default parameters\n",
      "Training and testing a Gaussian Naive Bayes with default parameters \n",
      "Training and testing an LFS model with default parameters.\n",
      "This may take a few minutes...\n",
      "Training and testing a Decision Forest with default parameters.\n",
      "Training and testing a K-Neighbors with default parameters\n",
      "Training and testing a Gaussian Naive Bayes with default parameters \n",
      "Training and testing an LFS model with default parameters.\n",
      "This may take a few minutes...\n",
      "Training and testing a Decision Forest with default parameters.\n",
      "Training and testing a K-Neighbors with default parameters\n",
      "Training and testing a Gaussian Naive Bayes with default parameters \n",
      "Training and testing an LFS model with default parameters.\n",
      "This may take a few minutes...\n",
      "Training and testing a Decision Forest with default parameters.\n",
      "Training and testing a K-Neighbors with default parameters\n",
      "Training and testing a Gaussian Naive Bayes with default parameters \n",
      "Training and testing an LFS model with default parameters.\n",
      "This may take a few minutes...\n",
      "Training and testing a Decision Forest with default parameters.\n",
      "Training and testing a K-Neighbors with default parameters\n",
      "Training and testing a Gaussian Naive Bayes with default parameters \n",
      "Training and testing an LFS model with default parameters.\n",
      "This may take a few minutes...\n",
      "Training and testing a Decision Forest with default parameters.\n",
      "Training and testing a K-Neighbors with default parameters\n",
      "Training and testing a Gaussian Naive Bayes with default parameters \n",
      "Training and testing an LFS model with default parameters.\n",
      "This may take a few minutes...\n",
      "Training and testing a Decision Forest with default parameters.\n",
      "Training and testing a K-Neighbors with default parameters\n",
      "Training and testing a Gaussian Naive Bayes with default parameters \n"
     ]
    }
   ],
   "source": [
    "# %% Compare across number of noise variables on Iris dataset\n",
    "Score_LFS = []\n",
    "Score_GB = []\n",
    "Score_KNN = []\n",
    "Score_TREE = []\n",
    "mlist = np.arange(0, 250, 25)\n",
    "for m in mlist:\n",
    "    s1, _ = results_lfspy(x_train, y_train, x_test, y_test)\n",
    "    s2, _ = results_decision(x_train, y_train, x_test, y_test)\n",
    "    s3, _ = results_neighbor(x_train, y_train, x_test, y_test)\n",
    "    s4, _ = results_naive(x_train, y_train, x_test, y_test)\n",
    "    \n",
    "    Score_LFS.append(s1)\n",
    "    Score_TREE.append(s2)\n",
    "    Score_KNN.append(s3)\n",
    "    Score_GB.append(s4)\n"
   ]
  },
  {
   "cell_type": "code",
   "execution_count": 175,
   "metadata": {},
   "outputs": [],
   "source": [
    "np.save('result-2-Score_TREE.npy', Score_TREE)\n",
    "np.save('result-2-Score_LFS.npy', Score_LFS)\n",
    "np.save('result-2-Score_KNN.npy', Score_KNN)\n",
    "np.save('result-2-Score_GB.npy', Score_KNN)"
   ]
  },
  {
   "cell_type": "code",
   "execution_count": null,
   "metadata": {},
   "outputs": [],
   "source": [
    "np.save('result-2-Score_TREE.npy', Score_TREE)\n",
    "np.save('result-2-Score_LFS.npy', Score_LFS)\n",
    "np.save('result-2-Score_KNN.npy', Score_KNN)\n",
    "np.save('result-2-Score_GB.npy', Score_KNN)"
   ]
  },
  {
   "cell_type": "code",
   "execution_count": 190,
   "metadata": {},
   "outputs": [
    {
     "data": {
      "image/png": "[encoded data removed]",
      "text/plain": [
       "<Figure size 432x288 with 1 Axes>"
      ]
     },
     "metadata": {
      "needs_background": "light"
     },
     "output_type": "display_data"
    }
   ],
   "source": [
    "\n",
    "plt.figure()\n",
    "plt.plot(mlist, Score_LFS)\n",
    "plt.plot(mlist, Score_TREE)\n",
    "plt.plot(mlist, Score_KNN)\n",
    "plt.plot(mlist, Score_GB)\n",
    "plt.vlines(100, 0, 1.2, linestyles='dashed')\n",
    "plt.ylim([0,1.2]) \n",
    "\n",
    "#plt.xlabel('Number of Noise Features')\n",
    "plt.title('Classification Accuracy by Number of Added Noise Variables', fontsize=14)\n",
    "plt.legend(['LFS','Desicion Tree','KNN', 'Gaussian Bayes'], loc='lower right')\n",
    "plt.savefig('classification_noise.png', bbox_inches='tight', pad_inches=0.1, dpi=300)\n",
    "plt.show()"
   ]
  },
  {
   "cell_type": "code",
   "execution_count": 142,
   "metadata": {},
   "outputs": [],
   "source": [
    "def plotScores(scores, title=None, filename=\"plot.png\"):\n",
    "    '''\n",
    "    Plot classification scores.\n",
    "    '''\n",
    "    plt.figure()\n",
    "    plt.bar(['Tree','GBayes','KNN', 'LFS'], scores, color='lightseagreen')\n",
    "    plt.ylim([0,1])  \n",
    "    plt.xlabel(\"Classifier\")\n",
    "    plt.ylabel(\"Prediction\")\n",
    "    plt.xticks(color='darkslategray')\n",
    "    plt.yticks(color='tomato')\n",
    "\n",
    "    for i, v in enumerate(scores):\n",
    "        plt.text(i - 0.1, 0.4, '{:.{}f}'.format(v,2), size=12)\n",
    "    \n",
    "    plt.title(title, fontsize=14)\n",
    "    plt.savefig(filename, bbox_inches='tight', pad_inches=0.1, dpi=300)\n",
    "    return None"
   ]
  },
  {
   "cell_type": "code",
   "execution_count": 86,
   "metadata": {},
   "outputs": [],
   "source": [
    "def results_lfspy(x_train, y_train, x_test, y_test):\n",
    "    '''\n",
    "    Trains an tests and LFS model using default parameters on the given dataset.\n",
    "    '''\n",
    "    print('Training and testing an LFS model with default parameters.\\nThis may take a few minutes...')\n",
    "    lfs = LocalFeatureSelection(rr_seed=777)\n",
    "    pipeline = Pipeline([('classifier', lfs)])\n",
    "    pipeline.fit(x_train, y_train)\n",
    "    y_pred = pipeline.predict(x_test)\n",
    "    score = pipeline.score(x_test, y_test)\n",
    "    return score, y_pred"
   ]
  },
  {
   "cell_type": "code",
   "execution_count": 54,
   "metadata": {},
   "outputs": [],
   "source": [
    "\n",
    "def results_decision(x_train, y_train, x_test, y_test):\n",
    "    print('Training and testing a Decision Forest with default parameters.')\n",
    "    desc = DecisionTreeClassifier(max_depth=5, random_state=777)\n",
    "    pipeline = Pipeline([('classifier', desc)])\n",
    "    pipeline.fit(x_train, y_train)\n",
    "    y_pred = pipeline.predict(x_test)\n",
    "    score = pipeline.score(x_test, y_test)\n",
    "    \n",
    "    return score, y_pred\n"
   ]
  },
  {
   "cell_type": "code",
   "execution_count": 123,
   "metadata": {},
   "outputs": [],
   "source": [
    "\n",
    "def results_neighbor(x_train, y_train, x_test, y_test):\n",
    "    print('Training and testing a K-Neighbors with default parameters')\n",
    "    k =  KNeighborsClassifier(3)\n",
    "#     sel = SelectKBest(f_classif, k=int(0.25*x_train.shape[1]))\n",
    "    pipeline = Pipeline([('classifier', k)])\n",
    "    pipeline.fit(x_train, y_train)\n",
    "    y_pred = pipeline.predict(x_test)\n",
    "    score = pipeline.score(x_test, y_test)\n",
    "    \n",
    "    return score, y_pred"
   ]
  },
  {
   "cell_type": "code",
   "execution_count": 124,
   "metadata": {},
   "outputs": [],
   "source": [
    "\n",
    "def results_naive(x_train, y_train, x_test, y_test):\n",
    "    print('Training and testing a Gaussian Naive Bayes with default parameters ')\n",
    "    naive =   GaussianNB()\n",
    "#     sel = SelectKBest(f_classif, k=int(0.25*x_train.shape[1]))\n",
    "    pipeline = Pipeline([('classifier', naive)])\n",
    "    pipeline.fit(x_train, y_train)\n",
    "    y_pred = pipeline.predict(x_test)\n",
    "    score = pipeline.score(x_test, y_test)\n",
    "    \n",
    "    return score, y_pred"
   ]
  },
  {
   "cell_type": "code",
   "execution_count": 65,
   "metadata": {},
   "outputs": [],
   "source": [
    "def load_dataset(m=0):\n",
    "    features = X\n",
    "    if m > 0:\n",
    "        features = add_noise_vars(X, m)\n",
    "    X_train, X_test, y_train, y_test = train_test_split(features, y, random_state=777, test_size=.2)\n",
    "    return X_train, X_test, y_train, y_test\n"
   ]
  }
 ],
 "metadata": {
  "kernelspec": {
   "display_name": "computer_tool",
   "language": "python",
   "name": "computer_tool"
  },
  "language_info": {
   "codemirror_mode": {
    "name": "ipython",
    "version": 3
   },
   "file_extension": ".py",
   "mimetype": "text/x-python",
   "name": "python",
   "nbconvert_exporter": "python",
   "pygments_lexer": "ipython3",
   "version": "3.7.7"
  }
 },
 "nbformat": 4,
 "nbformat_minor": 4
}
