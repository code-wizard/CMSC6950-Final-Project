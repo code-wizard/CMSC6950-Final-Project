{
 "cells": [
  {
   "cell_type": "code",
   "execution_count": 10,
   "metadata": {},
   "outputs": [],
   "source": [
    "import numpy as np\n",
    "import pandas as pd\n",
    "from LFSpy import LocalFeatureSelection\n",
    "from sklearn.pipeline import Pipeline\n",
    "from scipy.io import loadmat"
   ]
  },
  {
   "cell_type": "code",
   "execution_count": 11,
   "metadata": {},
   "outputs": [],
   "source": [
    "# loads the sample dataset\n",
    "mat = loadmat('matlab_Data')\n",
    "x_train = mat['Train'].T\n",
    "y_train = mat['TrainLables'][0]\n",
    "x_test = mat['Test'].T\n",
    "y_test = mat['TestLables'][0]"
   ]
  },
  {
   "cell_type": "code",
   "execution_count": 16,
   "metadata": {},
   "outputs": [
    {
     "name": "stdout",
     "output_type": "stream",
     "text": [
      "Training and testing an LFS model with default parameters.\n",
      " This may take a few minutes...\n",
      "LFS test accuracy: 0.7962962962962963\n"
     ]
    }
   ],
   "source": [
    "print('Training and testing an LFS model with default parameters.\\n This may take a few minutes...')\n",
    "lfs = LocalFeatureSelection(rr_seed=777)\n",
    "pipeline = Pipeline([['classifier', lfs]])\n",
    "pipeline.fit(x_train, y_train)\n",
    "y_pred = pipeline.predict(x_test)\n",
    "score = pipeline.score(x_test, y_test)\n",
    "print('LFS test accuracy: {}'.format(score))"
   ]
  },
  {
   "cell_type": "code",
   "execution_count": 14,
   "metadata": {},
   "outputs": [],
   "source": [
    "LocalFeatureSelection?"
   ]
  }
 ],
 "metadata": {
  "kernelspec": {
   "display_name": "computer_tool",
   "language": "python",
   "name": "computer_tool"
  },
  "language_info": {
   "codemirror_mode": {
    "name": "ipython",
    "version": 3
   },
   "file_extension": ".py",
   "mimetype": "text/x-python",
   "name": "python",
   "nbconvert_exporter": "python",
   "pygments_lexer": "ipython3",
   "version": "3.7.7"
  }
 },
 "nbformat": 4,
 "nbformat_minor": 4
}
