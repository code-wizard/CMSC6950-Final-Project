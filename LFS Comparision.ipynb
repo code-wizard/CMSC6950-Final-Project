{
 "cells": [
  {
   "cell_type": "code",
   "execution_count": 166,
   "metadata": {},
   "outputs": [],
   "source": [
    "import numpy as np\n",
    "import warnings\n",
    "from scipy.io import loadmat\n",
    "from LFSpy import LocalFeatureSelection\n",
    "from sklearn.ensemble import RandomForestClassifier\n",
    "from sklearn.svm import LinearSVC\n",
    "from sklearn.feature_selection import SelectKBest, f_classif\n",
    "from sklearn.pipeline import Pipeline\n",
    "from sklearn import datasets\n",
    "import matplotlib.pyplot as plt\n",
    "import pandas as pd\n",
    "from sklearn import preprocessing\n",
    "np.random.seed(905)\n"
   ]
  },
  {
   "cell_type": "code",
   "execution_count": 133,
   "metadata": {},
   "outputs": [],
   "source": [
    "# !wget 'http://archive.ics.uci.edu/ml/machine-learning-databases/iris/iris.data'\n"
   ]
  },
  {
   "cell_type": "code",
   "execution_count": 151,
   "metadata": {},
   "outputs": [],
   "source": [
    "t = pd.read_csv('data/iris.csv', sep=',')\n",
    "\n"
   ]
  },
  {
   "cell_type": "code",
   "execution_count": 154,
   "metadata": {},
   "outputs": [
    {
     "data": {
      "text/plain": [
       "{'data': array([[5.1, 3.5, 1.4, 0.2],\n",
       "        [4.9, 3. , 1.4, 0.2],\n",
       "        [4.7, 3.2, 1.3, 0.2],\n",
       "        [4.6, 3.1, 1.5, 0.2],\n",
       "        [5. , 3.6, 1.4, 0.2],\n",
       "        [5.4, 3.9, 1.7, 0.4],\n",
       "        [4.6, 3.4, 1.4, 0.3],\n",
       "        [5. , 3.4, 1.5, 0.2],\n",
       "        [4.4, 2.9, 1.4, 0.2],\n",
       "        [4.9, 3.1, 1.5, 0.1],\n",
       "        [5.4, 3.7, 1.5, 0.2],\n",
       "        [4.8, 3.4, 1.6, 0.2],\n",
       "        [4.8, 3. , 1.4, 0.1],\n",
       "        [4.3, 3. , 1.1, 0.1],\n",
       "        [5.8, 4. , 1.2, 0.2],\n",
       "        [5.7, 4.4, 1.5, 0.4],\n",
       "        [5.4, 3.9, 1.3, 0.4],\n",
       "        [5.1, 3.5, 1.4, 0.3],\n",
       "        [5.7, 3.8, 1.7, 0.3],\n",
       "        [5.1, 3.8, 1.5, 0.3],\n",
       "        [5.4, 3.4, 1.7, 0.2],\n",
       "        [5.1, 3.7, 1.5, 0.4],\n",
       "        [4.6, 3.6, 1. , 0.2],\n",
       "        [5.1, 3.3, 1.7, 0.5],\n",
       "        [4.8, 3.4, 1.9, 0.2],\n",
       "        [5. , 3. , 1.6, 0.2],\n",
       "        [5. , 3.4, 1.6, 0.4],\n",
       "        [5.2, 3.5, 1.5, 0.2],\n",
       "        [5.2, 3.4, 1.4, 0.2],\n",
       "        [4.7, 3.2, 1.6, 0.2],\n",
       "        [4.8, 3.1, 1.6, 0.2],\n",
       "        [5.4, 3.4, 1.5, 0.4],\n",
       "        [5.2, 4.1, 1.5, 0.1],\n",
       "        [5.5, 4.2, 1.4, 0.2],\n",
       "        [4.9, 3.1, 1.5, 0.2],\n",
       "        [5. , 3.2, 1.2, 0.2],\n",
       "        [5.5, 3.5, 1.3, 0.2],\n",
       "        [4.9, 3.6, 1.4, 0.1],\n",
       "        [4.4, 3. , 1.3, 0.2],\n",
       "        [5.1, 3.4, 1.5, 0.2],\n",
       "        [5. , 3.5, 1.3, 0.3],\n",
       "        [4.5, 2.3, 1.3, 0.3],\n",
       "        [4.4, 3.2, 1.3, 0.2],\n",
       "        [5. , 3.5, 1.6, 0.6],\n",
       "        [5.1, 3.8, 1.9, 0.4],\n",
       "        [4.8, 3. , 1.4, 0.3],\n",
       "        [5.1, 3.8, 1.6, 0.2],\n",
       "        [4.6, 3.2, 1.4, 0.2],\n",
       "        [5.3, 3.7, 1.5, 0.2],\n",
       "        [5. , 3.3, 1.4, 0.2],\n",
       "        [7. , 3.2, 4.7, 1.4],\n",
       "        [6.4, 3.2, 4.5, 1.5],\n",
       "        [6.9, 3.1, 4.9, 1.5],\n",
       "        [5.5, 2.3, 4. , 1.3],\n",
       "        [6.5, 2.8, 4.6, 1.5],\n",
       "        [5.7, 2.8, 4.5, 1.3],\n",
       "        [6.3, 3.3, 4.7, 1.6],\n",
       "        [4.9, 2.4, 3.3, 1. ],\n",
       "        [6.6, 2.9, 4.6, 1.3],\n",
       "        [5.2, 2.7, 3.9, 1.4],\n",
       "        [5. , 2. , 3.5, 1. ],\n",
       "        [5.9, 3. , 4.2, 1.5],\n",
       "        [6. , 2.2, 4. , 1. ],\n",
       "        [6.1, 2.9, 4.7, 1.4],\n",
       "        [5.6, 2.9, 3.6, 1.3],\n",
       "        [6.7, 3.1, 4.4, 1.4],\n",
       "        [5.6, 3. , 4.5, 1.5],\n",
       "        [5.8, 2.7, 4.1, 1. ],\n",
       "        [6.2, 2.2, 4.5, 1.5],\n",
       "        [5.6, 2.5, 3.9, 1.1],\n",
       "        [5.9, 3.2, 4.8, 1.8],\n",
       "        [6.1, 2.8, 4. , 1.3],\n",
       "        [6.3, 2.5, 4.9, 1.5],\n",
       "        [6.1, 2.8, 4.7, 1.2],\n",
       "        [6.4, 2.9, 4.3, 1.3],\n",
       "        [6.6, 3. , 4.4, 1.4],\n",
       "        [6.8, 2.8, 4.8, 1.4],\n",
       "        [6.7, 3. , 5. , 1.7],\n",
       "        [6. , 2.9, 4.5, 1.5],\n",
       "        [5.7, 2.6, 3.5, 1. ],\n",
       "        [5.5, 2.4, 3.8, 1.1],\n",
       "        [5.5, 2.4, 3.7, 1. ],\n",
       "        [5.8, 2.7, 3.9, 1.2],\n",
       "        [6. , 2.7, 5.1, 1.6],\n",
       "        [5.4, 3. , 4.5, 1.5],\n",
       "        [6. , 3.4, 4.5, 1.6],\n",
       "        [6.7, 3.1, 4.7, 1.5],\n",
       "        [6.3, 2.3, 4.4, 1.3],\n",
       "        [5.6, 3. , 4.1, 1.3],\n",
       "        [5.5, 2.5, 4. , 1.3],\n",
       "        [5.5, 2.6, 4.4, 1.2],\n",
       "        [6.1, 3. , 4.6, 1.4],\n",
       "        [5.8, 2.6, 4. , 1.2],\n",
       "        [5. , 2.3, 3.3, 1. ],\n",
       "        [5.6, 2.7, 4.2, 1.3],\n",
       "        [5.7, 3. , 4.2, 1.2],\n",
       "        [5.7, 2.9, 4.2, 1.3],\n",
       "        [6.2, 2.9, 4.3, 1.3],\n",
       "        [5.1, 2.5, 3. , 1.1],\n",
       "        [5.7, 2.8, 4.1, 1.3],\n",
       "        [6.3, 3.3, 6. , 2.5],\n",
       "        [5.8, 2.7, 5.1, 1.9],\n",
       "        [7.1, 3. , 5.9, 2.1],\n",
       "        [6.3, 2.9, 5.6, 1.8],\n",
       "        [6.5, 3. , 5.8, 2.2],\n",
       "        [7.6, 3. , 6.6, 2.1],\n",
       "        [4.9, 2.5, 4.5, 1.7],\n",
       "        [7.3, 2.9, 6.3, 1.8],\n",
       "        [6.7, 2.5, 5.8, 1.8],\n",
       "        [7.2, 3.6, 6.1, 2.5],\n",
       "        [6.5, 3.2, 5.1, 2. ],\n",
       "        [6.4, 2.7, 5.3, 1.9],\n",
       "        [6.8, 3. , 5.5, 2.1],\n",
       "        [5.7, 2.5, 5. , 2. ],\n",
       "        [5.8, 2.8, 5.1, 2.4],\n",
       "        [6.4, 3.2, 5.3, 2.3],\n",
       "        [6.5, 3. , 5.5, 1.8],\n",
       "        [7.7, 3.8, 6.7, 2.2],\n",
       "        [7.7, 2.6, 6.9, 2.3],\n",
       "        [6. , 2.2, 5. , 1.5],\n",
       "        [6.9, 3.2, 5.7, 2.3],\n",
       "        [5.6, 2.8, 4.9, 2. ],\n",
       "        [7.7, 2.8, 6.7, 2. ],\n",
       "        [6.3, 2.7, 4.9, 1.8],\n",
       "        [6.7, 3.3, 5.7, 2.1],\n",
       "        [7.2, 3.2, 6. , 1.8],\n",
       "        [6.2, 2.8, 4.8, 1.8],\n",
       "        [6.1, 3. , 4.9, 1.8],\n",
       "        [6.4, 2.8, 5.6, 2.1],\n",
       "        [7.2, 3. , 5.8, 1.6],\n",
       "        [7.4, 2.8, 6.1, 1.9],\n",
       "        [7.9, 3.8, 6.4, 2. ],\n",
       "        [6.4, 2.8, 5.6, 2.2],\n",
       "        [6.3, 2.8, 5.1, 1.5],\n",
       "        [6.1, 2.6, 5.6, 1.4],\n",
       "        [7.7, 3. , 6.1, 2.3],\n",
       "        [6.3, 3.4, 5.6, 2.4],\n",
       "        [6.4, 3.1, 5.5, 1.8],\n",
       "        [6. , 3. , 4.8, 1.8],\n",
       "        [6.9, 3.1, 5.4, 2.1],\n",
       "        [6.7, 3.1, 5.6, 2.4],\n",
       "        [6.9, 3.1, 5.1, 2.3],\n",
       "        [5.8, 2.7, 5.1, 1.9],\n",
       "        [6.8, 3.2, 5.9, 2.3],\n",
       "        [6.7, 3.3, 5.7, 2.5],\n",
       "        [6.7, 3. , 5.2, 2.3],\n",
       "        [6.3, 2.5, 5. , 1.9],\n",
       "        [6.5, 3. , 5.2, 2. ],\n",
       "        [6.2, 3.4, 5.4, 2.3],\n",
       "        [5.9, 3. , 5.1, 1.8]]),\n",
       " 'target': array([0, 0, 0, 0, 0, 0, 0, 0, 0, 0, 0, 0, 0, 0, 0, 0, 0, 0, 0, 0, 0, 0,\n",
       "        0, 0, 0, 0, 0, 0, 0, 0, 0, 0, 0, 0, 0, 0, 0, 0, 0, 0, 0, 0, 0, 0,\n",
       "        0, 0, 0, 0, 0, 0, 1, 1, 1, 1, 1, 1, 1, 1, 1, 1, 1, 1, 1, 1, 1, 1,\n",
       "        1, 1, 1, 1, 1, 1, 1, 1, 1, 1, 1, 1, 1, 1, 1, 1, 1, 1, 1, 1, 1, 1,\n",
       "        1, 1, 1, 1, 1, 1, 1, 1, 1, 1, 1, 1, 2, 2, 2, 2, 2, 2, 2, 2, 2, 2,\n",
       "        2, 2, 2, 2, 2, 2, 2, 2, 2, 2, 2, 2, 2, 2, 2, 2, 2, 2, 2, 2, 2, 2,\n",
       "        2, 2, 2, 2, 2, 2, 2, 2, 2, 2, 2, 2, 2, 2, 2, 2, 2, 2]),\n",
       " 'frame': None,\n",
       " 'target_names': array(['setosa', 'versicolor', 'virginica'], dtype='<U10'),\n",
       " 'DESCR': '.. _iris_dataset:\\n\\nIris plants dataset\\n--------------------\\n\\n**Data Set Characteristics:**\\n\\n    :Number of Instances: 150 (50 in each of three classes)\\n    :Number of Attributes: 4 numeric, predictive attributes and the class\\n    :Attribute Information:\\n        - sepal length in cm\\n        - sepal width in cm\\n        - petal length in cm\\n        - petal width in cm\\n        - class:\\n                - Iris-Setosa\\n                - Iris-Versicolour\\n                - Iris-Virginica\\n                \\n    :Summary Statistics:\\n\\n    ============== ==== ==== ======= ===== ====================\\n                    Min  Max   Mean    SD   Class Correlation\\n    ============== ==== ==== ======= ===== ====================\\n    sepal length:   4.3  7.9   5.84   0.83    0.7826\\n    sepal width:    2.0  4.4   3.05   0.43   -0.4194\\n    petal length:   1.0  6.9   3.76   1.76    0.9490  (high!)\\n    petal width:    0.1  2.5   1.20   0.76    0.9565  (high!)\\n    ============== ==== ==== ======= ===== ====================\\n\\n    :Missing Attribute Values: None\\n    :Class Distribution: 33.3% for each of 3 classes.\\n    :Creator: R.A. Fisher\\n    :Donor: Michael Marshall (MARSHALL%PLU@io.arc.nasa.gov)\\n    :Date: July, 1988\\n\\nThe famous Iris database, first used by Sir R.A. Fisher. The dataset is taken\\nfrom Fisher\\'s paper. Note that it\\'s the same as in R, but not as in the UCI\\nMachine Learning Repository, which has two wrong data points.\\n\\nThis is perhaps the best known database to be found in the\\npattern recognition literature.  Fisher\\'s paper is a classic in the field and\\nis referenced frequently to this day.  (See Duda & Hart, for example.)  The\\ndata set contains 3 classes of 50 instances each, where each class refers to a\\ntype of iris plant.  One class is linearly separable from the other 2; the\\nlatter are NOT linearly separable from each other.\\n\\n.. topic:: References\\n\\n   - Fisher, R.A. \"The use of multiple measurements in taxonomic problems\"\\n     Annual Eugenics, 7, Part II, 179-188 (1936); also in \"Contributions to\\n     Mathematical Statistics\" (John Wiley, NY, 1950).\\n   - Duda, R.O., & Hart, P.E. (1973) Pattern Classification and Scene Analysis.\\n     (Q327.D83) John Wiley & Sons.  ISBN 0-471-22361-1.  See page 218.\\n   - Dasarathy, B.V. (1980) \"Nosing Around the Neighborhood: A New System\\n     Structure and Classification Rule for Recognition in Partially Exposed\\n     Environments\".  IEEE Transactions on Pattern Analysis and Machine\\n     Intelligence, Vol. PAMI-2, No. 1, 67-71.\\n   - Gates, G.W. (1972) \"The Reduced Nearest Neighbor Rule\".  IEEE Transactions\\n     on Information Theory, May 1972, 431-433.\\n   - See also: 1988 MLC Proceedings, 54-64.  Cheeseman et al\"s AUTOCLASS II\\n     conceptual clustering system finds 3 classes in the data.\\n   - Many, many more ...',\n",
       " 'feature_names': ['sepal length (cm)',\n",
       "  'sepal width (cm)',\n",
       "  'petal length (cm)',\n",
       "  'petal width (cm)'],\n",
       " 'filename': '/Users/ebuka/.virtualenvs/computer_tool/lib/python3.7/site-packages/sklearn/datasets/data/iris.csv'}"
      ]
     },
     "execution_count": 154,
     "metadata": {},
     "output_type": "execute_result"
    }
   ],
   "source": [
    "datasets.load_iris()"
   ]
  },
  {
   "cell_type": "code",
   "execution_count": 171,
   "metadata": {},
   "outputs": [],
   "source": [
    "data = t.drop(['species'],axis=1).to_numpy()\n",
    "le = preprocessing.LabelEncoder()\n",
    "labels = le.fit_transform(t['species'].to_numpy())"
   ]
  },
  {
   "cell_type": "code",
   "execution_count": 181,
   "metadata": {},
   "outputs": [],
   "source": [
    "\n",
    "def load_dataset(name, m=0):\n",
    "    '''\n",
    "    Loads a test/demo dataset.\n",
    "    '''\n",
    "    print('Loading dataset ' + name + '...')\n",
    "    if name is 'sample':\n",
    "        mat = loadmat('data/matlab_Data')\n",
    "        training_data = mat['Train'].T\n",
    "        training_labels = mat['TrainLables'][0]\n",
    "        testing_data = mat['Test'].T\n",
    "        testing_labels = mat['TestLables'][0]\n",
    "        \n",
    "    elif name is 'iris':\n",
    "        # we only take the first two classes for binary classification\n",
    "        train_idx = np.arange(0, 100, 2)\n",
    "        test_idx = np.arange(1, 100, 2)\n",
    "        \n",
    "        iris = data\n",
    "\n",
    "        if m > 0:\n",
    "                iris = add_noise_vars(data, m)\n",
    "#         iris = t.drop(['species'],axis=1).to_numpy()\n",
    "        training_data = iris[train_idx,:]\n",
    "        training_labels = labels[train_idx]\n",
    "        testing_data = iris[test_idx,:]\n",
    "        testing_labels = labels[test_idx]\n",
    "#         training_data = iris.data[train_idx,:]\n",
    "#         training_labels = iris.target[train_idx]\n",
    "#         testing_data = iris.data[test_idx,:]\n",
    "#         testing_labels = iris.target[test_idx]\n",
    "    \n",
    "    return training_data, training_labels, testing_data, testing_labels"
   ]
  },
  {
   "cell_type": "code",
   "execution_count": 138,
   "metadata": {},
   "outputs": [],
   "source": [
    "\n",
    "def add_noise_vars(x, m, std_range=[0,3]):\n",
    "    '''\n",
    "    Adds m Gaussian noise variables to data array x. Gaussian distribution have \n",
    "    zero mean with standard deviations sampled from a uniform distribution on\n",
    "    std_range.\n",
    "    '''\n",
    "    n = x.shape[0]\n",
    "    stds = np.random.uniform(low=std_range[0], high=std_range[1], size=m)\n",
    "    noise_vars = [np.random.normal(loc=0.0, scale=s, size=[n,]) for s in stds]\n",
    "    return np.hstack((x, np.stack(noise_vars).T))"
   ]
  },
  {
   "cell_type": "code",
   "execution_count": 139,
   "metadata": {},
   "outputs": [],
   "source": [
    "def results_lfspy(x_train, y_train, x_test, y_test):\n",
    "    '''\n",
    "    Trains an tests and LFS model using default parameters on the given dataset.\n",
    "    '''\n",
    "    print('Training and testing an LFS model with default parameters.\\nThis may take a few minutes...')\n",
    "    lfs = LocalFeatureSelection(rr_seed=777)\n",
    "    pipeline = Pipeline([('classifier', lfs)])\n",
    "    pipeline.fit(x_train, y_train)\n",
    "    y_pred = pipeline.predict(x_test)\n",
    "    score = pipeline.score(x_test, y_test)\n",
    "    \n",
    "    return score, y_pred"
   ]
  },
  {
   "cell_type": "code",
   "execution_count": 140,
   "metadata": {},
   "outputs": [],
   "source": [
    "\n",
    "def results_rforest(x_train, y_train, x_test, y_test):\n",
    "    print('Training and testing a Random Forest with default parameters.')\n",
    "    rfc = RandomForestClassifier(random_state=777)\n",
    "    pipeline = Pipeline([('classifier', rfc)])\n",
    "    pipeline.fit(x_train, y_train)\n",
    "    y_pred = pipeline.predict(x_test)\n",
    "    score = pipeline.score(x_test, y_test)\n",
    "    \n",
    "    return score, y_pred\n"
   ]
  },
  {
   "cell_type": "code",
   "execution_count": 141,
   "metadata": {},
   "outputs": [],
   "source": [
    "\n",
    "def results_fsvm(x_train, y_train, x_test, y_test):\n",
    "    print('Training and testing a SVM with default parameters with F-stat feature selection (25% of features selected).')\n",
    "    svm = LinearSVC(random_state=777)\n",
    "    sel = SelectKBest(f_classif, k=int(0.25*x_train.shape[1]))\n",
    "    pipeline = Pipeline([('feat_sel', sel), ('classifier', svm)])\n",
    "    pipeline.fit(x_train, y_train)\n",
    "    y_pred = pipeline.predict(x_test)\n",
    "    score = pipeline.score(x_test, y_test)\n",
    "    \n",
    "    return score, y_pred"
   ]
  },
  {
   "cell_type": "code",
   "execution_count": 142,
   "metadata": {},
   "outputs": [],
   "source": [
    " from joblib import dump, load"
   ]
  },
  {
   "cell_type": "code",
   "execution_count": 174,
   "metadata": {},
   "outputs": [
    {
     "name": "stdout",
     "output_type": "stream",
     "text": [
      "Loading dataset iris...\n",
      "Training and testing an LFS model with default parameters.\n",
      "This may take a few minutes...\n",
      "Training and testing a Random Forest with default parameters.\n",
      "Training and testing a SVM with default parameters with F-stat feature selection (25% of features selected).\n"
     ]
    }
   ],
   "source": [
    "\n",
    "training_data, training_labels, testing_data, testing_labels = load_dataset('sample')\n",
    "# lfs_model = results_lfspy(training_data, training_labels, testing_data, testing_labels)\n",
    "# rfc_model = results_rforest(training_data, training_labels, testing_data, testing_labels)\n",
    "# svm_model = results_fsvm(training_data, training_labels, testing_data, testing_labels)\n",
    "\n",
    "# dump(lfs_model, 'lfs_model.joblib')\n",
    "# dump(rfc_model, 'rfc_model.joblib')\n",
    "# dump(svm_model, 'svm_model.joblib')\n",
    "\n",
    "score_lfs, y_pred_lfs = results_lfspy(training_data, training_labels, testing_data, testing_labels)\n",
    "score_rfc, y_pred_rfc = results_rforest(training_data, training_labels, testing_data, testing_labels)\n",
    "score_svm, y_pred_svm = results_fsvm(training_data, training_labels, testing_data, testing_labels)\n",
    "\n",
    "training_data, training_labels, testing_data, testing_labels = load_dataset('iris')\n",
    "score_lfs_iris, y_pred_lfs_iris = results_lfspy(training_data, training_labels, testing_data, testing_labels)\n",
    "score_rfc_iris, y_pred_rfc_iris = results_rforest(training_data, training_labels, testing_data, testing_labels)\n",
    "score_svm_iris, y_pred_svm_iris = results_fsvm(training_data, training_labels, testing_data, testing_labels)\n",
    "\n",
    "# Plot the comparison of results\n",
    "scores = [score_lfs, score_rfc, score_svm]\n",
    "scores_iris = [score_lfs_iris, score_rfc_iris, score_svm_iris]\n",
    "with open('result-1.npy', 'wb') as f:\n",
    "    np.save(f, scores)\n",
    "    np.save(f, scores_iris)"
   ]
  },
  {
   "cell_type": "code",
   "execution_count": 144,
   "metadata": {},
   "outputs": [],
   "source": [
    "def plotScores(scores, title=None):\n",
    "    '''\n",
    "    Plot classification scores.\n",
    "    '''\n",
    "    plt.figure()\n",
    "    plt.bar(['LFS','RFC','SVM'], scores)\n",
    "    plt.ylim([0,1])    \n",
    "\n",
    "    for i, v in enumerate(scores):\n",
    "        plt.text(i - 0.1, 0.4, '{:.{}f}'.format(v,2), size=12)\n",
    "    \n",
    "    plt.title(title, fontsize=14)\n",
    "    plt.savefig(title+'.png', bbox_inches='tight', pad_inches=0.1, dpi=300)\n",
    "    return None"
   ]
  },
  {
   "cell_type": "code",
   "execution_count": 175,
   "metadata": {},
   "outputs": [
    {
     "data": {
      "image/png": "[encoded data removed]",
      "text/plain": [
       "<Figure size 432x288 with 1 Axes>"
      ]
     },
     "metadata": {
      "needs_background": "light"
     },
     "output_type": "display_data"
    }
   ],
   "source": [
    "\n",
    "plotScores(scores, 'Sample Data Classification Accuracies')\n",
    "plotScores(scores_iris, 'Iris Data Classification Accuracies')"
   ]
  },
  {
   "cell_type": "code",
   "execution_count": null,
   "metadata": {},
   "outputs": [],
   "source": []
  },
  {
   "cell_type": "code",
   "execution_count": 146,
   "metadata": {},
   "outputs": [],
   "source": [
    "# with open('result.npy', 'rb') as f:\n",
    "#     a = np.load(f)\n",
    "#     b = np.load(f)\n",
    "#     c = np.load(f)\n",
    "# # Plot the results\n",
    "# plt.figure()\n",
    "# plt.plot(mlist, Score_LFS)\n",
    "# plt.plot(mlist, Score_RFC)\n",
    "# plt.plot(mlist, Score_SVM)\n",
    "# plt.vlines(100, 0, 1.2, linestyles='dashed')\n",
    "# plt.ylim([0,1.2]) \n",
    "\n",
    "# #plt.xlabel('Number of Noise Features')\n",
    "# plt.title('Classification Accuracy by Number of Added Noise Variables', fontsize=14)\n",
    "# plt.legend(['LFS','Random Forest','SVM'], loc='lower right')\n",
    "# plt.show()"
   ]
  },
  {
   "cell_type": "code",
   "execution_count": 183,
   "metadata": {},
   "outputs": [
    {
     "data": {
      "text/plain": [
       "array([1., 1., 1., 1., 1., 1., 1., 1., 1., 1.])"
      ]
     },
     "execution_count": 183,
     "metadata": {},
     "output_type": "execute_result"
    }
   ],
   "source": [
    "np.load('result-2-Score_RFC.npy')"
   ]
  },
  {
   "cell_type": "code",
   "execution_count": 182,
   "metadata": {},
   "outputs": [
    {
     "name": "stdout",
     "output_type": "stream",
     "text": [
      "Loading dataset iris...\n",
      "Training and testing an LFS model with default parameters.\n",
      "This may take a few minutes...\n",
      "Training and testing a Random Forest with default parameters.\n",
      "Training and testing a SVM with default parameters with F-stat feature selection (25% of features selected).\n",
      "Loading dataset iris...\n",
      "Training and testing an LFS model with default parameters.\n",
      "This may take a few minutes...\n",
      "Training and testing a Random Forest with default parameters.\n",
      "Training and testing a SVM with default parameters with F-stat feature selection (25% of features selected).\n",
      "Loading dataset iris...\n",
      "Training and testing an LFS model with default parameters.\n",
      "This may take a few minutes...\n",
      "Training and testing a Random Forest with default parameters.\n",
      "Training and testing a SVM with default parameters with F-stat feature selection (25% of features selected).\n",
      "Loading dataset iris...\n",
      "Training and testing an LFS model with default parameters.\n",
      "This may take a few minutes...\n",
      "Training and testing a Random Forest with default parameters.\n",
      "Training and testing a SVM with default parameters with F-stat feature selection (25% of features selected).\n",
      "Loading dataset iris...\n",
      "Training and testing an LFS model with default parameters.\n",
      "This may take a few minutes...\n",
      "Training and testing a Random Forest with default parameters.\n",
      "Training and testing a SVM with default parameters with F-stat feature selection (25% of features selected).\n",
      "Loading dataset iris...\n",
      "Training and testing an LFS model with default parameters.\n",
      "This may take a few minutes...\n",
      "Training and testing a Random Forest with default parameters.\n",
      "Training and testing a SVM with default parameters with F-stat feature selection (25% of features selected).\n",
      "Loading dataset iris...\n",
      "Training and testing an LFS model with default parameters.\n",
      "This may take a few minutes...\n",
      "Training and testing a Random Forest with default parameters.\n",
      "Training and testing a SVM with default parameters with F-stat feature selection (25% of features selected).\n",
      "Loading dataset iris...\n",
      "Training and testing an LFS model with default parameters.\n",
      "This may take a few minutes...\n",
      "Training and testing a Random Forest with default parameters.\n",
      "Training and testing a SVM with default parameters with F-stat feature selection (25% of features selected).\n",
      "Loading dataset iris...\n",
      "Training and testing an LFS model with default parameters.\n",
      "This may take a few minutes...\n",
      "Training and testing a Random Forest with default parameters.\n",
      "Training and testing a SVM with default parameters with F-stat feature selection (25% of features selected).\n",
      "Loading dataset iris...\n",
      "Training and testing an LFS model with default parameters.\n",
      "This may take a few minutes...\n",
      "Training and testing a Random Forest with default parameters.\n",
      "Training and testing a SVM with default parameters with F-stat feature selection (25% of features selected).\n"
     ]
    },
    {
     "data": {
      "image/png": "[encoded data removed]",
      "text/plain": [
       "<Figure size 432x288 with 1 Axes>"
      ]
     },
     "metadata": {
      "needs_background": "light"
     },
     "output_type": "display_data"
    }
   ],
   "source": [
    "\n",
    "# %% Compare across number of noise variables on Iris dataset\n",
    "Score_LFS = []\n",
    "Score_SVM = []\n",
    "Score_RFC = []\n",
    "mlist = np.arange(0, 250, 25)\n",
    "for m in mlist:\n",
    "    training_data, training_labels, testing_data, testing_labels = load_dataset('iris', m=m)\n",
    "    \n",
    "    s1, _ = results_lfspy(training_data, training_labels, testing_data, testing_labels)\n",
    "    s2, _ = results_rforest(training_data, training_labels, testing_data, testing_labels)\n",
    "    s3, _ = results_fsvm(training_data, training_labels, testing_data, testing_labels)\n",
    "    \n",
    "    Score_LFS.append(s1)\n",
    "    Score_RFC.append(s2)\n",
    "    Score_SVM.append(s3)\n",
    "\n",
    "# Save results \n",
    "np.save('result-2-Score_RFC.npy', Score_RFC)\n",
    "np.save('result-2-Score_LFS.npy', Score_LFS)\n",
    "np.save('result-2-Score_SVM.npy', Score_SVM)\n",
    "\n",
    "# with open('result-2.npy', 'wb') as f:\n",
    "#     np.save(f, Score_RFC)\n",
    "#     np.save(f, Score_LFS)\n",
    "#     np.save(f, Score_SVM)\n",
    "    \n",
    "# Plot the results\n",
    "plt.figure()\n",
    "plt.plot(mlist, Score_LFS)\n",
    "plt.plot(mlist, Score_RFC)\n",
    "plt.plot(mlist, Score_SVM)\n",
    "plt.vlines(100, 0, 1.2, linestyles='dashed')\n",
    "plt.ylim([0,1.2]) \n",
    "\n",
    "#plt.xlabel('Number of Noise Features')\n",
    "plt.title('Classification Accuracy by Number of Added Noise Variables', fontsize=14)\n",
    "plt.legend(['LFS','Random Forest','SVM'], loc='lower right')\n",
    "plt.savefig('IrisData_noise_Results.png', bbox_inches='tight', pad_inches=0.1, dpi=300)\n",
    "plt.show()"
   ]
  },
  {
   "cell_type": "code",
   "execution_count": 148,
   "metadata": {},
   "outputs": [],
   "source": [
    "# %% GenData Experiment\n",
    "def create_dataset(n_samples, n_features, n_informative, n_redundant, n_repeated, n_clusters):\n",
    "    '''\n",
    "    Create a synthetic dataset with desired properties.\n",
    "    '''    \n",
    "    X, Y = datasets.make_classification(n_samples=n_samples, \n",
    "                                        n_features=n_features, \n",
    "                                        n_informative=n_informative, \n",
    "                                        n_redundant=n_redundant, \n",
    "                                        n_repeated=n_repeated, \n",
    "                                        n_classes=2, \n",
    "                                        n_clusters_per_class=n_clusters, \n",
    "                                        weights=None, \n",
    "                                        flip_y=0.10, \n",
    "                                        class_sep=1., \n",
    "                                        hypercube=True, \n",
    "                                        shift=None, \n",
    "                                        scale=1.0, \n",
    "                                        shuffle=True, \n",
    "                                        random_state=321)\n",
    "    return X, Y"
   ]
  },
  {
   "cell_type": "code",
   "execution_count": 149,
   "metadata": {},
   "outputs": [],
   "source": [
    "def runExperiment():\n",
    "    '''\n",
    "    Run an example experiment showing the effect of redundant variables and \n",
    "    repeated variables in a p >> n setting.\n",
    "    '''\n",
    "    clusters = [1, 2, 3]\n",
    "    param = [[50, 5, 5, 0, 0],\n",
    "             [50, 45, 5, 40, 0],\n",
    "             [50, 45, 5, 0, 40],\n",
    "             [50, 45, 5, 20, 20]]\n",
    "\n",
    "    scores = np.zeros((len(clusters), len(param), 3), dtype=float)\n",
    "\n",
    "    for c, nc in enumerate(clusters):\n",
    "                        \n",
    "        for (i,p) in enumerate(param):\n",
    "            X, Y = create_dataset(p[0], p[1], p[2], p[3], p[4], nc)\n",
    "            training_data = X[:40]\n",
    "            training_labels = Y[:40]\n",
    "            testing_data = X[40:]\n",
    "            testing_labels = Y[40:]\n",
    "    \n",
    "            scores[c,i,0], _ = results_lfspy(training_data, training_labels, testing_data, testing_labels)\n",
    "            scores[c,i,1], _ = results_rforest(training_data, training_labels, testing_data, testing_labels)\n",
    "            scores[c,i,2], _ = results_fsvm(training_data, training_labels, testing_data, testing_labels)\n",
    "\n",
    "    return scores\n",
    "\n",
    "def plotScoresGrouped(scores, title=None):\n",
    "    '''\n",
    "    Plot classification scores grouped by setting\n",
    "    '''\n",
    "    n, l, nclf = scores.shape\n",
    "    ind = np.arange(l)\n",
    "    fig, ax = plt.subplots(n,1,figsize=(8,6))\n",
    "    \n",
    "    for c in range(n):\n",
    "        slfs = np.squeeze(scores[c,:,0])\n",
    "        srfc = np.squeeze(scores[c,:,1])\n",
    "        ssvm = np.squeeze(scores[c,:,2])\n",
    "        \n",
    "        width = 0.3\n",
    "    \n",
    "        ax[c].bar(ind - width, slfs, width, label='LFS')\n",
    "        ax[c].bar(ind, srfc, width, label='RFC')\n",
    "        ax[c].bar(ind + width, ssvm, width, label='SVM')\n",
    "        \n",
    "        ax[c].set_ylim([0,1])\n",
    "        ax[c].set(ylabel='{} Cluster(s)'.format(c+1))\n",
    "        \n",
    "        for i, v in enumerate(slfs):\n",
    "            ax[c].text(i - width - 0.13, 0.3, '{:.{}f}'.format(v,2), size=12)\n",
    "        for i, v in enumerate(srfc):\n",
    "            ax[c].text(i - 0.13, 0.3, '{:.{}f}'.format(v,2), size=12)\n",
    "        for i, v in enumerate(ssvm):\n",
    "            ax[c].text(i + width -0.13, 0.3, '{:.{}f}'.format(v,2), size=12)\n",
    "        \n",
    "        if c == 0:\n",
    "            fig.suptitle(title, fontsize=14)\n",
    "            ax[c].legend()\n",
    "            ax[c].xaxis.set_visible(False)\n",
    "        if c == 1:\n",
    "            plt.ylabel('Accuracy')\n",
    "            ax[c].xaxis.set_visible(False)\n",
    "        if c == 2:\n",
    "            plt.xticks(range(4), labels=['r=0, s=0','r=40, s=0','r=0, s=40', 'r=20, s=20'])\n",
    "\n",
    "    plt.savefig('GenDataCompare4.png', bbox_inches='tight', pad_inches=0.1, dpi=300)    \n",
    "    return None"
   ]
  },
  {
   "cell_type": "code",
   "execution_count": null,
   "metadata": {},
   "outputs": [],
   "source": []
  },
  {
   "cell_type": "code",
   "execution_count": 150,
   "metadata": {},
   "outputs": [
    {
     "name": "stdout",
     "output_type": "stream",
     "text": [
      "Training and testing an LFS model with default parameters.\n",
      "This may take a few minutes...\n",
      "Training and testing a Random Forest with default parameters.\n",
      "Training and testing a SVM with default parameters with F-stat feature selection (25% of features selected).\n",
      "Training and testing an LFS model with default parameters.\n",
      "This may take a few minutes...\n",
      "Training and testing a Random Forest with default parameters.\n",
      "Training and testing a SVM with default parameters with F-stat feature selection (25% of features selected).\n",
      "Training and testing an LFS model with default parameters.\n",
      "This may take a few minutes...\n"
     ]
    },
    {
     "name": "stderr",
     "output_type": "stream",
     "text": [
      "/Users/ebuka/.virtualenvs/computer_tool/lib/python3.7/site-packages/sklearn/svm/_base.py:977: ConvergenceWarning: Liblinear failed to converge, increase the number of iterations.\n",
      "  \"the number of iterations.\", ConvergenceWarning)\n"
     ]
    },
    {
     "name": "stdout",
     "output_type": "stream",
     "text": [
      "Training and testing a Random Forest with default parameters.\n",
      "Training and testing a SVM with default parameters with F-stat feature selection (25% of features selected).\n",
      "Training and testing an LFS model with default parameters.\n",
      "This may take a few minutes...\n"
     ]
    },
    {
     "name": "stderr",
     "output_type": "stream",
     "text": [
      "/Users/ebuka/.virtualenvs/computer_tool/lib/python3.7/site-packages/sklearn/svm/_base.py:977: ConvergenceWarning: Liblinear failed to converge, increase the number of iterations.\n",
      "  \"the number of iterations.\", ConvergenceWarning)\n"
     ]
    },
    {
     "name": "stdout",
     "output_type": "stream",
     "text": [
      "Training and testing a Random Forest with default parameters.\n",
      "Training and testing a SVM with default parameters with F-stat feature selection (25% of features selected).\n",
      "Training and testing an LFS model with default parameters.\n",
      "This may take a few minutes...\n"
     ]
    },
    {
     "name": "stderr",
     "output_type": "stream",
     "text": [
      "/Users/ebuka/.virtualenvs/computer_tool/lib/python3.7/site-packages/sklearn/svm/_base.py:977: ConvergenceWarning: Liblinear failed to converge, increase the number of iterations.\n",
      "  \"the number of iterations.\", ConvergenceWarning)\n"
     ]
    },
    {
     "name": "stdout",
     "output_type": "stream",
     "text": [
      "Training and testing a Random Forest with default parameters.\n",
      "Training and testing a SVM with default parameters with F-stat feature selection (25% of features selected).\n",
      "Training and testing an LFS model with default parameters.\n",
      "This may take a few minutes...\n",
      "Training and testing a Random Forest with default parameters.\n",
      "Training and testing a SVM with default parameters with F-stat feature selection (25% of features selected).\n",
      "Training and testing an LFS model with default parameters.\n",
      "This may take a few minutes...\n"
     ]
    },
    {
     "name": "stderr",
     "output_type": "stream",
     "text": [
      "/Users/ebuka/.virtualenvs/computer_tool/lib/python3.7/site-packages/sklearn/svm/_base.py:977: ConvergenceWarning: Liblinear failed to converge, increase the number of iterations.\n",
      "  \"the number of iterations.\", ConvergenceWarning)\n"
     ]
    },
    {
     "name": "stdout",
     "output_type": "stream",
     "text": [
      "Training and testing a Random Forest with default parameters.\n",
      "Training and testing a SVM with default parameters with F-stat feature selection (25% of features selected).\n",
      "Training and testing an LFS model with default parameters.\n",
      "This may take a few minutes...\n",
      "Training and testing a Random Forest with default parameters.\n",
      "Training and testing a SVM with default parameters with F-stat feature selection (25% of features selected).\n",
      "Training and testing an LFS model with default parameters.\n",
      "This may take a few minutes...\n"
     ]
    },
    {
     "name": "stderr",
     "output_type": "stream",
     "text": [
      "/Users/ebuka/.virtualenvs/computer_tool/lib/python3.7/site-packages/sklearn/svm/_base.py:977: ConvergenceWarning: Liblinear failed to converge, increase the number of iterations.\n",
      "  \"the number of iterations.\", ConvergenceWarning)\n"
     ]
    },
    {
     "name": "stdout",
     "output_type": "stream",
     "text": [
      "Training and testing a Random Forest with default parameters.\n",
      "Training and testing a SVM with default parameters with F-stat feature selection (25% of features selected).\n",
      "Training and testing an LFS model with default parameters.\n",
      "This may take a few minutes...\n",
      "Training and testing a Random Forest with default parameters.\n",
      "Training and testing a SVM with default parameters with F-stat feature selection (25% of features selected).\n",
      "Training and testing an LFS model with default parameters.\n",
      "This may take a few minutes...\n"
     ]
    },
    {
     "name": "stderr",
     "output_type": "stream",
     "text": [
      "/Users/ebuka/.virtualenvs/computer_tool/lib/python3.7/site-packages/sklearn/svm/_base.py:977: ConvergenceWarning: Liblinear failed to converge, increase the number of iterations.\n",
      "  \"the number of iterations.\", ConvergenceWarning)\n"
     ]
    },
    {
     "name": "stdout",
     "output_type": "stream",
     "text": [
      "Training and testing a Random Forest with default parameters.\n",
      "Training and testing a SVM with default parameters with F-stat feature selection (25% of features selected).\n",
      "Training and testing an LFS model with default parameters.\n",
      "This may take a few minutes...\n"
     ]
    },
    {
     "name": "stderr",
     "output_type": "stream",
     "text": [
      "/Users/ebuka/.virtualenvs/computer_tool/lib/python3.7/site-packages/sklearn/svm/_base.py:977: ConvergenceWarning: Liblinear failed to converge, increase the number of iterations.\n",
      "  \"the number of iterations.\", ConvergenceWarning)\n"
     ]
    },
    {
     "name": "stdout",
     "output_type": "stream",
     "text": [
      "Training and testing a Random Forest with default parameters.\n",
      "Training and testing a SVM with default parameters with F-stat feature selection (25% of features selected).\n"
     ]
    },
    {
     "name": "stderr",
     "output_type": "stream",
     "text": [
      "/Users/ebuka/.virtualenvs/computer_tool/lib/python3.7/site-packages/sklearn/svm/_base.py:977: ConvergenceWarning: Liblinear failed to converge, increase the number of iterations.\n",
      "  \"the number of iterations.\", ConvergenceWarning)\n"
     ]
    },
    {
     "data": {
      "image/png": "[encoded data removed]",
      "text/plain": [
       "<Figure size 576x432 with 3 Axes>"
      ]
     },
     "metadata": {
      "needs_background": "light"
     },
     "output_type": "display_data"
    }
   ],
   "source": [
    "scores = runExperiment()\n",
    "np.save(\"Experiment.npy\", scores)\n",
    "plotScoresGrouped(scores, 'Comparison with Generated Datasets')"
   ]
  }
 ],
 "metadata": {
  "kernelspec": {
   "display_name": "computer_tool",
   "language": "python",
   "name": "computer_tool"
  },
  "language_info": {
   "codemirror_mode": {
    "name": "ipython",
    "version": 3
   },
   "file_extension": ".py",
   "mimetype": "text/x-python",
   "name": "python",
   "nbconvert_exporter": "python",
   "pygments_lexer": "ipython3",
   "version": "3.7.7"
  }
 },
 "nbformat": 4,
 "nbformat_minor": 4
}
